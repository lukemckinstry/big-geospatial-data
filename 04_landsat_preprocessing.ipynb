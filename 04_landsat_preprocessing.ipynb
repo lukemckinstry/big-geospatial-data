{
 "cells": [
  {
   "cell_type": "code",
   "execution_count": 4,
   "id": "494d085b-e701-4296-8899-5e4c71f9f09f",
   "metadata": {},
   "outputs": [
    {
     "name": "stdout",
     "output_type": "stream",
     "text": [
      "{'driver': 'GTiff', 'dtype': 'uint16', 'nodata': 0.0, 'width': 7651, 'height': 7801, 'count': 4, 'crs': CRS.from_wkt('PROJCS[\"WGS 84 / UTM zone 17N\",GEOGCS[\"WGS 84\",DATUM[\"WGS_1984\",SPHEROID[\"WGS 84\",6378137,298.257223563,AUTHORITY[\"EPSG\",\"7030\"]],AUTHORITY[\"EPSG\",\"6326\"]],PRIMEM[\"Greenwich\",0,AUTHORITY[\"EPSG\",\"8901\"]],UNIT[\"degree\",0.0174532925199433,AUTHORITY[\"EPSG\",\"9122\"]],AUTHORITY[\"EPSG\",\"4326\"]],PROJECTION[\"Transverse_Mercator\"],PARAMETER[\"latitude_of_origin\",0],PARAMETER[\"central_meridian\",-81],PARAMETER[\"scale_factor\",0.9996],PARAMETER[\"false_easting\",500000],PARAMETER[\"false_northing\",0],UNIT[\"metre\",1,AUTHORITY[\"EPSG\",\"9001\"]],AXIS[\"Easting\",EAST],AXIS[\"Northing\",NORTH],AUTHORITY[\"EPSG\",\"32617\"]]'), 'transform': Affine(30.0, 0.0, 364485.0,\n",
      "       0.0, -30.0, 3310215.0)}\n",
      "Multi-band TIFF saved as output/multi_band_output.tif\n"
     ]
    }
   ],
   "source": [
    "import rasterio\n",
    "import numpy as np\n",
    "from rasterio.enums import Resampling\n",
    "\n",
    "# Define the paths to the individual band files\n",
    "band_paths = [\n",
    "    \"output/LC08_L2SP_016040_20210317_20210328_02_T1_SR_B2.TIF\",\n",
    "    \"output/LC08_L2SP_016040_20210317_20210328_02_T1_SR_B3.TIF\",\n",
    "    \"output/LC08_L2SP_016040_20210317_20210328_02_T1_SR_B4.TIF\",\n",
    "    \"output/LC08_L2SP_016040_20210317_20210328_02_T1_SR_B5.TIF\"\n",
    "]\n",
    "\n",
    "# Read in the bands\n",
    "bands = []\n",
    "for band_path in band_paths:\n",
    "    with rasterio.open(band_path) as src:\n",
    "        band = src.read(1)  # Read the first band (this will be a 2D array)\n",
    "        bands.append(band)\n",
    "\n",
    "# Stack the bands into a 3D array (bands x rows x columns)\n",
    "stacked_bands = np.array(bands)\n",
    "\n",
    "# Get the metadata from one of the bands to preserve it\n",
    "with rasterio.open(band_paths[0]) as src:\n",
    "    meta = src.meta\n",
    "\n",
    "# Update the metadata to reflect the number of bands\n",
    "meta.update(count=len(band_paths))\n",
    "\n",
    "print(meta)\n",
    "\n",
    "# Write the stacked bands to a new multi-band GeoTIFF\n",
    "output_path = 'output/multi_band_output.tif'\n",
    "with rasterio.open(output_path, 'w', **meta) as dst:\n",
    "    for i in range(len(band_paths)):\n",
    "        dst.write(stacked_bands[i], i + 1)  # Write each band to the corresponding index (1-indexed)\n",
    "\n",
    "print(f\"Multi-band TIFF saved as {output_path}\")"
   ]
  },
  {
   "cell_type": "code",
   "execution_count": null,
   "id": "c132068c-82a0-43ff-b413-adce65fe5b89",
   "metadata": {},
   "outputs": [],
   "source": []
  }
 ],
 "metadata": {
  "kernelspec": {
   "display_name": "Python 3 (ipykernel)",
   "language": "python",
   "name": "python3"
  },
  "language_info": {
   "codemirror_mode": {
    "name": "ipython",
    "version": 3
   },
   "file_extension": ".py",
   "mimetype": "text/x-python",
   "name": "python",
   "nbconvert_exporter": "python",
   "pygments_lexer": "ipython3",
   "version": "3.11.11"
  }
 },
 "nbformat": 4,
 "nbformat_minor": 5
}
